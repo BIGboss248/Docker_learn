{
 "cells": [
  {
   "cell_type": "markdown",
   "metadata": {},
   "source": [
    "# Learning Docker"
   ]
  },
  {
   "cell_type": "markdown",
   "metadata": {},
   "source": [
    "## Create a Docker Container\n",
    "you can create a docker container like the folowing code replace the hello-world:linux with your own name :linux part is a tag"
   ]
  },
  {
   "cell_type": "code",
   "execution_count": null,
   "metadata": {
    "tags": [
     "cmd"
    ]
   },
   "outputs": [],
   "source": [
    "%%cmd\n",
    "docker container create hello-world:linux"
   ]
  },
  {
   "cell_type": "markdown",
   "metadata": {},
   "source": [
    "## Start and run a Container\n",
    "To start a Container use the code below you need to start it by specifying container ID if it shows the ID it means that it ran succefully"
   ]
  },
  {
   "cell_type": "code",
   "execution_count": null,
   "metadata": {
    "tags": [
     "cmd"
    ]
   },
   "outputs": [],
   "source": [
    "%%cmd\n",
    "docker container start 79636ac6c5b8b7777859ee0149da58daf8f6806e9ded4b20d7d71d7448303aab"
   ]
  },
  {
   "cell_type": "markdown",
   "metadata": {},
   "source": [
    "You can also see the output by using --attach argument"
   ]
  },
  {
   "cell_type": "code",
   "execution_count": null,
   "metadata": {
    "tags": [
     "cmd"
    ]
   },
   "outputs": [],
   "source": [
    "%%cmd\n",
    "docker container start --attach 79636ac6c5b8b7777859ee0149da58daf8f6806e9ded4b20d7d71d7448303aab"
   ]
  },
  {
   "cell_type": "markdown",
   "metadata": {},
   "source": [
    "You can use docker ps to see the running containers and use --all for all containers"
   ]
  },
  {
   "cell_type": "code",
   "execution_count": null,
   "metadata": {
    "tags": [
     "cmd"
    ]
   },
   "outputs": [],
   "source": [
    "%%cmd\n",
    "docker container ps --all"
   ]
  },
  {
   "cell_type": "markdown",
   "metadata": {},
   "source": [
    "You can use the run command to run a container if you add -d it wont attach the terminal use -p for port"
   ]
  },
  {
   "cell_type": "code",
   "execution_count": null,
   "metadata": {
    "tags": [
     "cmd"
    ]
   },
   "outputs": [],
   "source": [
    "%%cmd\n",
    "docker container run hello-world:linux"
   ]
  },
  {
   "cell_type": "markdown",
   "metadata": {},
   "source": [
    "You can use kill command to stop a container with the first 3 character of the container you can specify the container without typing the whole id"
   ]
  },
  {
   "cell_type": "code",
   "execution_count": null,
   "metadata": {
    "tags": [
     "cmd"
    ]
   },
   "outputs": [],
   "source": [
    "%%cmd\n",
    "docker kill 7963"
   ]
  },
  {
   "cell_type": "markdown",
   "metadata": {},
   "source": [
    "## Docker Entry Point \n",
    "To create custom images of your own you need to create an entry point "
   ]
  },
  {
   "cell_type": "code",
   "execution_count": null,
   "metadata": {
    "tags": [
     "cmd"
    ]
   },
   "outputs": [],
   "source": [
    "%%cmd\n",
    "docker build -t first-image -file app.dockerfile"
   ]
  },
  {
   "cell_type": "markdown",
   "metadata": {},
   "source": [
    "# Create an apllication with docker (docker's official guide)"
   ]
  },
  {
   "cell_type": "markdown",
   "metadata": {},
   "source": [
    "## Create python enviromnet"
   ]
  },
  {
   "cell_type": "code",
   "execution_count": null,
   "metadata": {
    "tags": [
     "cmd"
    ]
   },
   "outputs": [],
   "source": [
    "%%cmd\n",
    "# change directory to the folder where you have the code\n",
    "python -m venv .venv\n",
    "cd .venv\n",
    "cd Scripts\n",
    ".\\activate"
   ]
  },
  {
   "cell_type": "markdown",
   "metadata": {},
   "source": [
    "## Create a requirements.txt"
   ]
  },
  {
   "cell_type": "code",
   "execution_count": null,
   "metadata": {
    "tags": [
     "cmd"
    ]
   },
   "outputs": [],
   "source": [
    "%%cmd\n",
    "python -m pip install -r requirements.txt"
   ]
  },
  {
   "cell_type": "markdown",
   "metadata": {},
   "source": [
    "## Create docker file"
   ]
  },
  {
   "cell_type": "code",
   "execution_count": null,
   "metadata": {
    "tags": [
     "cmd"
    ]
   },
   "outputs": [],
   "source": [
    "%%cmd\n",
    "docker init"
   ]
  },
  {
   "cell_type": "markdown",
   "metadata": {},
   "source": [
    "## Create image"
   ]
  },
  {
   "cell_type": "code",
   "execution_count": null,
   "metadata": {
    "tags": [
     "cmd"
    ]
   },
   "outputs": [],
   "source": [
    "%%cmd\n",
    "# create image\n",
    "docker build --tag image_name .\n",
    "# list images\n",
    "docker images"
   ]
  },
  {
   "cell_type": "markdown",
   "metadata": {},
   "source": [
    "## Run and image"
   ]
  },
  {
   "cell_type": "code",
   "execution_count": null,
   "metadata": {
    "tags": [
     "cmd"
    ]
   },
   "outputs": [],
   "source": [
    "%%cmd\n",
    "#run an image inside a container\n",
    "docker run image_name\n",
    "#run an image inside a container with specific port\n",
    "docker run -p 8080:80 image_name\n",
    "#run an image in background\n",
    "docker run -d image_name"
   ]
  },
  {
   "cell_type": "markdown",
   "metadata": {},
   "source": [
    "## push image to docker hub"
   ]
  },
  {
   "cell_type": "code",
   "execution_count": null,
   "metadata": {
    "tags": [
     "cmd"
    ]
   },
   "outputs": [],
   "source": [
    "%%cmd \n",
    "docker login -u aminjamali79\n",
    "docker tag image_name aminjamali79/image_name\n",
    "docker push aminjamali79/image_name"
   ]
  },
  {
   "cell_type": "markdown",
   "metadata": {},
   "source": [
    "## list running containers"
   ]
  },
  {
   "cell_type": "code",
   "execution_count": null,
   "metadata": {
    "tags": [
     "cmd"
    ]
   },
   "outputs": [],
   "source": [
    "%%cmd\n",
    "docker ps\n",
    "# list all containers\n",
    "docker ps -a"
   ]
  },
  {
   "cell_type": "markdown",
   "metadata": {},
   "source": [
    "## stop a container"
   ]
  },
  {
   "cell_type": "code",
   "execution_count": null,
   "metadata": {
    "tags": [
     "cmd"
    ]
   },
   "outputs": [],
   "source": [
    "%%cmd\n",
    "docker stop image_name"
   ]
  }
 ],
 "metadata": {
  "kernelspec": {
   "display_name": "Python 3",
   "language": "python",
   "name": "python3"
  },
  "language_info": {
   "codemirror_mode": {
    "name": "ipython",
    "version": 3
   },
   "file_extension": ".py",
   "mimetype": "text/x-python",
   "name": "python",
   "nbconvert_exporter": "python",
   "pygments_lexer": "ipython3",
   "version": "3.11.3"
  },
  "orig_nbformat": 4
 },
 "nbformat": 4,
 "nbformat_minor": 2
}
