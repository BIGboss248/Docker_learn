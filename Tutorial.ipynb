{
 "cells": [
  {
   "cell_type": "markdown",
   "metadata": {},
   "source": [
    "# Learning Docker"
   ]
  },
  {
   "cell_type": "markdown",
   "metadata": {},
   "source": [
    "## Create a Docker Container\n",
    "you can create a docker container like the folowing code replace the hello-world:linux with your own name :linux part is a tag"
   ]
  },
  {
   "cell_type": "code",
   "execution_count": 6,
   "metadata": {},
   "outputs": [
    {
     "name": "stdout",
     "output_type": "stream",
     "text": [
      "Microsoft Windows [Version 10.0.22621.2215]\n",
      "(c) Microsoft Corporation. All rights reserved.\n",
      "\n",
      "c:\\Users\\aminj\\OneDrive\\Scripts\\Docker_learn>docker container create hello-world:linux\n",
      "5917c539951accfc7b5e1bf1561b8a550ad48838e83eb29bc0dc5974c2e2650e\n",
      "\n",
      "c:\\Users\\aminj\\OneDrive\\Scripts\\Docker_learn>"
     ]
    }
   ],
   "source": [
    "%%cmd\n",
    "docker container create hello-world:linux"
   ]
  },
  {
   "cell_type": "markdown",
   "metadata": {},
   "source": [
    "## Start and run a Container\n",
    "To start a Container use the code below you need to start it by specifying container ID if it shows the ID it means that it ran succefully"
   ]
  },
  {
   "cell_type": "code",
   "execution_count": 7,
   "metadata": {},
   "outputs": [
    {
     "name": "stdout",
     "output_type": "stream",
     "text": [
      "Microsoft Windows [Version 10.0.22621.2215]\n",
      "(c) Microsoft Corporation. All rights reserved.\n",
      "\n",
      "c:\\Users\\aminj\\OneDrive\\Scripts\\Docker_learn>docker container start 79636ac6c5b8b7777859ee0149da58daf8f6806e9ded4b20d7d71d7448303aab\n",
      "79636ac6c5b8b7777859ee0149da58daf8f6806e9ded4b20d7d71d7448303aab\n",
      "\n",
      "c:\\Users\\aminj\\OneDrive\\Scripts\\Docker_learn>"
     ]
    }
   ],
   "source": [
    "%%cmd\n",
    "docker container start 79636ac6c5b8b7777859ee0149da58daf8f6806e9ded4b20d7d71d7448303aab"
   ]
  },
  {
   "cell_type": "markdown",
   "metadata": {},
   "source": [
    "You can also see the output by using --attach argument"
   ]
  },
  {
   "cell_type": "code",
   "execution_count": 8,
   "metadata": {},
   "outputs": [
    {
     "name": "stdout",
     "output_type": "stream",
     "text": [
      "Microsoft Windows [Version 10.0.22621.2215]\n",
      "(c) Microsoft Corporation. All rights reserved.\n",
      "\n",
      "c:\\Users\\aminj\\OneDrive\\Scripts\\Docker_learn>docker container start --attach 79636ac6c5b8b7777859ee0149da58daf8f6806e9ded4b20d7d71d7448303aab\n",
      "\n",
      "Hello from Docker!\n",
      "This message shows that your installation appears to be working correctly.\n",
      "\n",
      "To generate this message, Docker took the following steps:\n",
      " 1. The Docker client contacted the Docker daemon.\n",
      " 2. The Docker daemon pulled the \"hello-world\" image from the Docker Hub.\n",
      "    (amd64)\n",
      " 3. The Docker daemon created a new container from that image which runs the\n",
      "    executable that produces the output you are currently reading.\n",
      " 4. The Docker daemon streamed that output to the Docker client, which sent it\n",
      "    to your terminal.\n",
      "\n",
      "To try something more ambitious, you can run an Ubuntu container with:\n",
      " $ docker run -it ubuntu bash\n",
      "\n",
      "Share images, automate workflows, and more with a free Docker ID:\n",
      " https://hub.docker.com/\n",
      "\n",
      "For more examples and ideas, visit:\n",
      " https://docs.docker.com/get-started/\n",
      "\n",
      "\n",
      "c:\\Users\\aminj\\OneDrive\\Scripts\\Docker_learn>"
     ]
    }
   ],
   "source": [
    "%%cmd\n",
    "docker container start --attach 79636ac6c5b8b7777859ee0149da58daf8f6806e9ded4b20d7d71d7448303aab"
   ]
  },
  {
   "cell_type": "markdown",
   "metadata": {},
   "source": [
    "You can use docker ps to see the running containers and use --all for all containers"
   ]
  },
  {
   "cell_type": "code",
   "execution_count": 9,
   "metadata": {},
   "outputs": [
    {
     "name": "stdout",
     "output_type": "stream",
     "text": [
      "Microsoft Windows [Version 10.0.22621.2215]\n",
      "(c) Microsoft Corporation. All rights reserved.\n",
      "\n",
      "c:\\Users\\aminj\\OneDrive\\Scripts\\Docker_learn>docker container ps --all\n",
      "CONTAINER ID   IMAGE               COMMAND    CREATED         STATUS                     PORTS     NAMES\n",
      "5917c539951a   hello-world:linux   \"/hello\"   7 seconds ago   Created                              exciting_dijkstra\n",
      "a3908210d0ce   hello-world:linux   \"/hello\"   23 hours ago    Exited (0) 23 hours ago              friendly_mirzakhani\n",
      "4ec77602e505   hello-world:linux   \"/hello\"   24 hours ago    Exited (0) 24 hours ago              wizardly_mcclintock\n",
      "79636ac6c5b8   hello-world:linux   \"/hello\"   24 hours ago    Exited (0) 2 seconds ago             agitated_pasteur\n",
      "dc3e387d534d   hello-world:linux   \"/hello\"   24 hours ago    Created                              wonderful_chatterjee\n",
      "\n",
      "c:\\Users\\aminj\\OneDrive\\Scripts\\Docker_learn>"
     ]
    }
   ],
   "source": [
    "%%cmd\n",
    "docker container ps --all"
   ]
  },
  {
   "cell_type": "markdown",
   "metadata": {},
   "source": [
    "You can use the run command to run a container if you add -d it wont attach the terminal use -p for port"
   ]
  },
  {
   "cell_type": "code",
   "execution_count": 10,
   "metadata": {},
   "outputs": [
    {
     "name": "stdout",
     "output_type": "stream",
     "text": [
      "Microsoft Windows [Version 10.0.22621.2215]\n",
      "(c) Microsoft Corporation. All rights reserved.\n",
      "\n",
      "c:\\Users\\aminj\\OneDrive\\Scripts\\Docker_learn>docker container run hello-world:linux\n",
      "\n",
      "Hello from Docker!\n",
      "This message shows that your installation appears to be working correctly.\n",
      "\n",
      "To generate this message, Docker took the following steps:\n",
      " 1. The Docker client contacted the Docker daemon.\n",
      " 2. The Docker daemon pulled the \"hello-world\" image from the Docker Hub.\n",
      "    (amd64)\n",
      " 3. The Docker daemon created a new container from that image which runs the\n",
      "    executable that produces the output you are currently reading.\n",
      " 4. The Docker daemon streamed that output to the Docker client, which sent it\n",
      "    to your terminal.\n",
      "\n",
      "To try something more ambitious, you can run an Ubuntu container with:\n",
      " $ docker run -it ubuntu bash\n",
      "\n",
      "Share images, automate workflows, and more with a free Docker ID:\n",
      " https://hub.docker.com/\n",
      "\n",
      "For more examples and ideas, visit:\n",
      " https://docs.docker.com/get-started/\n",
      "\n",
      "\n",
      "c:\\Users\\aminj\\OneDrive\\Scripts\\Docker_learn>"
     ]
    }
   ],
   "source": [
    "%%cmd\n",
    "docker container run hello-world:linux"
   ]
  },
  {
   "cell_type": "markdown",
   "metadata": {},
   "source": [
    "You can use kill command to stop a container with the first 3 character of the container you can specify the container without typing the whole id"
   ]
  },
  {
   "cell_type": "code",
   "execution_count": 11,
   "metadata": {},
   "outputs": [
    {
     "name": "stdout",
     "output_type": "stream",
     "text": [
      "Microsoft Windows [Version 10.0.22621.2215]\n",
      "(c) Microsoft Corporation. All rights reserved.\n",
      "\n",
      "c:\\Users\\aminj\\OneDrive\\Scripts\\Docker_learn>docker kill 7963\n"
     ]
    },
    {
     "name": "stderr",
     "output_type": "stream",
     "text": [
      "Error response from daemon: Cannot kill container: 7963: Container 79636ac6c5b8b7777859ee0149da58daf8f6806e9ded4b20d7d71d7448303aab is not running\n"
     ]
    },
    {
     "name": "stdout",
     "output_type": "stream",
     "text": [
      "\n",
      "c:\\Users\\aminj\\OneDrive\\Scripts\\Docker_learn>"
     ]
    }
   ],
   "source": [
    "%%cmd\n",
    "docker kill 7963"
   ]
  },
  {
   "cell_type": "markdown",
   "metadata": {},
   "source": [
    "## Docker Entry Point \n",
    "To create custom images of your own you need to create an entry point "
   ]
  },
  {
   "cell_type": "code",
   "execution_count": 12,
   "metadata": {},
   "outputs": [
    {
     "name": "stdout",
     "output_type": "stream",
     "text": [
      "Microsoft Windows [Version 10.0.22621.2215]\n",
      "(c) Microsoft Corporation. All rights reserved.\n",
      "\n",
      "c:\\Users\\aminj\\OneDrive\\Scripts\\Docker_learn>docker build -t first-image -file app.dockerfile\n"
     ]
    },
    {
     "name": "stderr",
     "output_type": "stream",
     "text": [
      "ERROR: unable to prepare context: path \"app.dockerfile\" not found\n"
     ]
    },
    {
     "name": "stdout",
     "output_type": "stream",
     "text": [
      "\n",
      "c:\\Users\\aminj\\OneDrive\\Scripts\\Docker_learn>"
     ]
    }
   ],
   "source": [
    "%%cmd\n",
    "docker build -t first-image -file app.dockerfile"
   ]
  },
  {
   "cell_type": "code",
   "execution_count": null,
   "metadata": {},
   "outputs": [],
   "source": []
  },
  {
   "cell_type": "markdown",
   "metadata": {},
   "source": [
    "# Create an apllication with docker (docker's official guide)"
   ]
  },
  {
   "cell_type": "markdown",
   "metadata": {},
   "source": [
    "## Create python enviromnet"
   ]
  },
  {
   "cell_type": "code",
   "execution_count": 13,
   "metadata": {},
   "outputs": [
    {
     "name": "stdout",
     "output_type": "stream",
     "text": [
      "Microsoft Windows [Version 10.0.22621.2215]\n",
      "(c) Microsoft Corporation. All rights reserved.\n",
      "\n",
      "c:\\Users\\aminj\\OneDrive\\Scripts\\Docker_learn># change directory to the folder where you have the code\n"
     ]
    },
    {
     "name": "stderr",
     "output_type": "stream",
     "text": [
      "'#' is not recognized as an internal or external command,\n",
      "operable program or batch file.\n"
     ]
    },
    {
     "name": "stdout",
     "output_type": "stream",
     "text": [
      "\n",
      "c:\\Users\\aminj\\OneDrive\\Scripts\\Docker_learn>python -m venv .venv\n"
     ]
    },
    {
     "name": "stdout",
     "output_type": "stream",
     "text": [
      "\n",
      "c:\\Users\\aminj\\OneDrive\\Scripts\\Docker_learn>cd .venv\n",
      "\n",
      "c:\\Users\\aminj\\OneDrive\\Scripts\\Docker_learn\\.venv>cd Scripts\n",
      "\n",
      "c:\\Users\\aminj\\OneDrive\\Scripts\\Docker_learn\\.venv\\Scripts>activate.bat\n",
      "\n",
      "(.venv) c:\\Users\\aminj\\OneDrive\\Scripts\\Docker_learn\\.venv\\Scripts>"
     ]
    }
   ],
   "source": [
    "%%cmd\n",
    "# change directory to the folder where you have the code\n",
    "python -m venv .venv\n",
    "cd .venv\n",
    "cd Scripts\n",
    "activate.bat"
   ]
  },
  {
   "cell_type": "markdown",
   "metadata": {},
   "source": [
    "## Create a requirements.txt"
   ]
  },
  {
   "cell_type": "code",
   "execution_count": 14,
   "metadata": {},
   "outputs": [
    {
     "name": "stdout",
     "output_type": "stream",
     "text": [
      "Microsoft Windows [Version 10.0.22621.2215]\n",
      "(c) Microsoft Corporation. All rights reserved.\n",
      "\n",
      "c:\\Users\\aminj\\OneDrive\\Scripts\\Docker_learn>python -m pip install -r requirements.txt\n"
     ]
    },
    {
     "name": "stderr",
     "output_type": "stream",
     "text": [
      "ERROR: Could not open requirements file: [Errno 2] No such file or directory: 'requirements.txt'\n"
     ]
    },
    {
     "name": "stdout",
     "output_type": "stream",
     "text": [
      "\n",
      "c:\\Users\\aminj\\OneDrive\\Scripts\\Docker_learn>"
     ]
    }
   ],
   "source": [
    "%%cmd\n",
    "python -m pip install -r requirements.txt"
   ]
  },
  {
   "cell_type": "markdown",
   "metadata": {},
   "source": [
    "## Create docker file"
   ]
  },
  {
   "cell_type": "code",
   "execution_count": 15,
   "metadata": {},
   "outputs": [
    {
     "name": "stdout",
     "output_type": "stream",
     "text": [
      "Microsoft Windows [Version 10.0.22621.2215]\n",
      "(c) Microsoft Corporation. All rights reserved.\n",
      "\n",
      "c:\\Users\\aminj\\OneDrive\\Scripts\\Docker_learn>docker init\n",
      "\n",
      "Welcome to the Docker Init CLI!\n",
      "\n",
      "This utility will walk you through creating the following files with sensible defaults for your project:\n",
      "  - .dockerignore\n",
      "  - Dockerfile\n",
      "  - compose.yaml\n",
      "\n",
      "Let's get started!\n",
      "\n",
      "\u001b[1;92m? \u001b[0m\u001b[1;99mWhat application platform does your project use?\u001b[0m  \u001b[36m[Use arrows to move, type to filter]\u001b[0m\n",
      "\u001b[39m  Go - \u001b[36msuitable for a Go server application\u001b[0m\n",
      "\u001b[39m  Python - \u001b[36msuitable for a Python server application\u001b[0m\n",
      "\u001b[39m  Node - \u001b[36msuitable for a Node server application\u001b[0m\n",
      "\u001b[1;36m> Other - \u001b[36mgeneral purpose starting point for containerizing your application\u001b[0m\n",
      "\u001b[39m  Don't see something you need? Let us know!\u001b[0m\n",
      "\u001b[39m  Quit\u001b[0m\n"
     ]
    },
    {
     "name": "stderr",
     "output_type": "stream",
     "text": [
      "ERROR: Incorrect function.\n",
      "\n"
     ]
    },
    {
     "name": "stdout",
     "output_type": "stream",
     "text": [
      "\n",
      "c:\\Users\\aminj\\OneDrive\\Scripts\\Docker_learn>"
     ]
    }
   ],
   "source": [
    "%%cmd\n",
    "docker init"
   ]
  },
  {
   "cell_type": "markdown",
   "metadata": {},
   "source": [
    "## Create image"
   ]
  },
  {
   "cell_type": "code",
   "execution_count": 16,
   "metadata": {},
   "outputs": [
    {
     "name": "stdout",
     "output_type": "stream",
     "text": [
      "Microsoft Windows [Version 10.0.22621.2215]\n",
      "(c) Microsoft Corporation. All rights reserved.\n",
      "\n",
      "c:\\Users\\aminj\\OneDrive\\Scripts\\Docker_learn>docker build --tag image_name:image_tag\n"
     ]
    },
    {
     "name": "stderr",
     "output_type": "stream",
     "text": [
      "ERROR: \"docker buildx build\" requires exactly 1 argument.\n",
      "See 'docker buildx build --help'.\n",
      "\n",
      "Usage:  docker buildx build [OPTIONS] PATH | URL | -\n",
      "\n",
      "Start a build\n"
     ]
    },
    {
     "name": "stdout",
     "output_type": "stream",
     "text": [
      "\n",
      "c:\\Users\\aminj\\OneDrive\\Scripts\\Docker_learn>"
     ]
    }
   ],
   "source": [
    "%%cmd\n",
    "# create image\n",
    "docker build --tag image_name\n",
    "# list images\n",
    "docker images"
   ]
  },
  {
   "cell_type": "markdown",
   "metadata": {},
   "source": [
    "## Run and image"
   ]
  },
  {
   "cell_type": "code",
   "execution_count": 17,
   "metadata": {},
   "outputs": [
    {
     "name": "stdout",
     "output_type": "stream",
     "text": [
      "Microsoft Windows [Version 10.0.22621.2215]\n",
      "(c) Microsoft Corporation. All rights reserved.\n",
      "\n",
      "c:\\Users\\aminj\\OneDrive\\Scripts\\Docker_learn>#run an image inside a container\n"
     ]
    },
    {
     "name": "stderr",
     "output_type": "stream",
     "text": [
      "'#run' is not recognized as an internal or external command,\n",
      "operable program or batch file.\n"
     ]
    },
    {
     "name": "stdout",
     "output_type": "stream",
     "text": [
      "\n",
      "c:\\Users\\aminj\\OneDrive\\Scripts\\Docker_learn>docker run image_name\n"
     ]
    },
    {
     "name": "stderr",
     "output_type": "stream",
     "text": [
      "Unable to find image 'image_name:latest' locally\n",
      "docker: Error response from daemon: pull access denied for image_name, repository does not exist or may require 'docker login': denied: requested access to the resource is denied.\n",
      "See 'docker run --help'.\n"
     ]
    },
    {
     "name": "stdout",
     "output_type": "stream",
     "text": [
      "\n",
      "c:\\Users\\aminj\\OneDrive\\Scripts\\Docker_learn>#run an image inside a container with specific port\n"
     ]
    },
    {
     "name": "stderr",
     "output_type": "stream",
     "text": [
      "'#run' is not recognized as an internal or external command,\n",
      "operable program or batch file.\n"
     ]
    },
    {
     "name": "stdout",
     "output_type": "stream",
     "text": [
      "\n",
      "c:\\Users\\aminj\\OneDrive\\Scripts\\Docker_learn>docker run -p 8080:80 image_name\n"
     ]
    },
    {
     "name": "stderr",
     "output_type": "stream",
     "text": [
      "Unable to find image 'image_name:latest' locally\n",
      "docker: Error response from daemon: pull access denied for image_name, repository does not exist or may require 'docker login': denied: requested access to the resource is denied.\n",
      "See 'docker run --help'.\n"
     ]
    },
    {
     "name": "stdout",
     "output_type": "stream",
     "text": [
      "\n",
      "c:\\Users\\aminj\\OneDrive\\Scripts\\Docker_learn>#run an image in background\n"
     ]
    },
    {
     "name": "stderr",
     "output_type": "stream",
     "text": [
      "'#run' is not recognized as an internal or external command,\n",
      "operable program or batch file.\n"
     ]
    },
    {
     "name": "stdout",
     "output_type": "stream",
     "text": [
      "\n",
      "c:\\Users\\aminj\\OneDrive\\Scripts\\Docker_learn>docker run -d image_name\n"
     ]
    },
    {
     "name": "stderr",
     "output_type": "stream",
     "text": [
      "Unable to find image 'image_name:latest' locally\n",
      "docker: Error response from daemon: pull access denied for image_name, repository does not exist or may require 'docker login': denied: requested access to the resource is denied.\n",
      "See 'docker run --help'.\n"
     ]
    },
    {
     "name": "stdout",
     "output_type": "stream",
     "text": [
      "\n",
      "c:\\Users\\aminj\\OneDrive\\Scripts\\Docker_learn>"
     ]
    }
   ],
   "source": [
    "%%cmd\n",
    "#run an image inside a container\n",
    "docker run image_name\n",
    "#run an image inside a container with specific port\n",
    "docker run -p 8080:80 image_name\n",
    "#run an image in background\n",
    "docker run -d image_name"
   ]
  },
  {
   "cell_type": "markdown",
   "metadata": {},
   "source": [
    "## list running containers"
   ]
  },
  {
   "cell_type": "code",
   "execution_count": 18,
   "metadata": {},
   "outputs": [
    {
     "name": "stdout",
     "output_type": "stream",
     "text": [
      "Microsoft Windows [Version 10.0.22621.2215]\n",
      "(c) Microsoft Corporation. All rights reserved.\n",
      "\n",
      "c:\\Users\\aminj\\OneDrive\\Scripts\\Docker_learn>docker ps\n",
      "CONTAINER ID   IMAGE     COMMAND   CREATED   STATUS    PORTS     NAMES\n",
      "\n",
      "c:\\Users\\aminj\\OneDrive\\Scripts\\Docker_learn># list all containers\n"
     ]
    },
    {
     "name": "stderr",
     "output_type": "stream",
     "text": [
      "'#' is not recognized as an internal or external command,\n",
      "operable program or batch file.\n"
     ]
    },
    {
     "name": "stdout",
     "output_type": "stream",
     "text": [
      "\n",
      "c:\\Users\\aminj\\OneDrive\\Scripts\\Docker_learn>docker ps -a\n",
      "CONTAINER ID   IMAGE               COMMAND    CREATED         STATUS                     PORTS     NAMES\n",
      "08afa4ff1940   hello-world:linux   \"/hello\"   9 minutes ago   Exited (0) 9 minutes ago             nice_mahavira\n",
      "5917c539951a   hello-world:linux   \"/hello\"   9 minutes ago   Created                              exciting_dijkstra\n",
      "a3908210d0ce   hello-world:linux   \"/hello\"   24 hours ago    Exited (0) 24 hours ago              friendly_mirzakhani\n",
      "4ec77602e505   hello-world:linux   \"/hello\"   24 hours ago    Exited (0) 24 hours ago              wizardly_mcclintock\n",
      "79636ac6c5b8   hello-world:linux   \"/hello\"   24 hours ago    Exited (0) 9 minutes ago             agitated_pasteur\n",
      "dc3e387d534d   hello-world:linux   \"/hello\"   24 hours ago    Created                              wonderful_chatterjee\n",
      "\n",
      "c:\\Users\\aminj\\OneDrive\\Scripts\\Docker_learn>"
     ]
    }
   ],
   "source": [
    "%%cmd\n",
    "docker ps\n",
    "# list all containers\n",
    "docker ps -a"
   ]
  },
  {
   "cell_type": "markdown",
   "metadata": {},
   "source": [
    "## stop a container"
   ]
  },
  {
   "cell_type": "code",
   "execution_count": null,
   "metadata": {},
   "outputs": [],
   "source": [
    "%%cmd\n",
    "docker stop image_name"
   ]
  }
 ],
 "metadata": {
  "kernelspec": {
   "display_name": "Python 3",
   "language": "python",
   "name": "python3"
  },
  "language_info": {
   "codemirror_mode": {
    "name": "ipython",
    "version": 3
   },
   "file_extension": ".py",
   "mimetype": "text/x-python",
   "name": "python",
   "nbconvert_exporter": "python",
   "pygments_lexer": "ipython3",
   "version": "3.11.3"
  },
  "orig_nbformat": 4
 },
 "nbformat": 4,
 "nbformat_minor": 2
}
